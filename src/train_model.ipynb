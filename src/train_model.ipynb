{
 "cells": [
  {
   "cell_type": "code",
   "execution_count": 36,
   "id": "0d1344fa",
   "metadata": {},
   "outputs": [],
   "source": [
    "import torch.nn as nn\n",
    "import sys\n",
    "import os\n",
    "import h5py\n",
    "import time\n",
    "import torch\n",
    "import configparser\n",
    "import numpy as np\n",
    "import torch.nn as nn\n",
    "from matplotlib import pyplot as plt\n",
    "from numpy.random import default_rng\n",
    "from torch.utils.data import DataLoader\n",
    "from sklearn.model_selection import train_test_split\n",
    "sys.path.append(os.path.abspath(os.path.join(os.getcwd(), \"..\", \"model\")))\n",
    "from model import unet, dataflow"
   ]
  },
  {
   "cell_type": "code",
   "execution_count": 37,
   "id": "98e6b8d8",
   "metadata": {},
   "outputs": [
    {
     "name": "stdout",
     "output_type": "stream",
     "text": [
      "Data shape: (900, 1500, 1500)\n"
     ]
    }
   ],
   "source": [
    "data_h5_filepath = '../data/mt_rainier_eq_car_data.h5'\n",
    "data_list = []\n",
    "\n",
    "# Load the data\n",
    "with h5py.File(data_h5_filepath, 'r', locking=False) as f:\n",
    "    for key in f.keys():\n",
    "        data = f[key][()]  # Load the dataset as a NumPy array\n",
    "        data_list.append(data)\n",
    "\n",
    "data_array = np.stack(data_list)\n",
    "print(f\"Data shape: {data_array.shape}\")"
   ]
  },
  {
   "cell_type": "code",
   "execution_count": 72,
   "id": "7fca43a3",
   "metadata": {},
   "outputs": [],
   "source": [
    "class EarlyStopping:\n",
    "    \"\"\"Early stops the training if validation loss doesn't improve after a given patience.\"\"\"\n",
    "\n",
    "    def __init__(self, patience=7, verbose=False, delta=0, path='checkpoint.pt', trace_func=print):\n",
    "        \"\"\"Args:\n",
    "            patience (int): How long to wait after last time validation loss improved.\n",
    "            verbose (bool): If True, prints a message for each validation loss improvement.\n",
    "            delta (float): Minimum change in the monitored quantity to qualify as an improvement.\n",
    "            path (str): Path for the checkpoint to be saved to.\n",
    "            trace_func (function): trace print function.\n",
    "        \"\"\"\n",
    "        self.patience = patience\n",
    "        self.verbose = verbose\n",
    "        self.counter = 0\n",
    "        self.best_score = None\n",
    "        self.early_stop = False\n",
    "        self.val_loss_min = np.Inf\n",
    "        self.delta = delta\n",
    "        self.path = path\n",
    "        self.trace_func = trace_func\n",
    "\n",
    "    def __call__(self, val_loss, model):\n",
    "        score = -val_loss\n",
    "\n",
    "        if self.best_score is None:\n",
    "            self.best_score = score\n",
    "            self.save_checkpoint(val_loss, model)\n",
    "        elif score < self.best_score + self.delta:\n",
    "            self.counter += 1\n",
    "            self.trace_func(f'EarlyStopping counter: {self.counter} out of {self.patience}')\n",
    "            if self.counter >= self.patience:\n",
    "                self.early_stop = True\n",
    "        else:\n",
    "            self.best_score = score\n",
    "            self.save_checkpoint(val_loss, model)\n",
    "            self.counter = 0\n",
    "\n",
    "    def save_checkpoint(self, val_loss, model):\n",
    "        \"\"\"Saves model when validation loss decrease.\"\"\"\n",
    "        if self.verbose:\n",
    "            self.trace_func(\n",
    "                f'Validation loss decreased ({self.val_loss_min:.6f} --> {val_loss:.6f}).  Saving model ...')\n",
    "        torch.save(model.state_dict(), self.path)\n",
    "        self.val_loss_min = val_loss"
   ]
  },
  {
   "cell_type": "code",
   "execution_count": 73,
   "id": "694de3e0",
   "metadata": {},
   "outputs": [],
   "source": [
    "def train_augmentation(train_dataloader, validate_dataloader, model, loss_fn, optimizer, lr_schedule, epochs,\n",
    "                        patience, device, minimum_epochs=None):\n",
    "    # get early_stopping ready\n",
    "    early_stopping = EarlyStopping(patience=patience, verbose=True)\n",
    "\n",
    "    # save history of losses every epoch\n",
    "    avg_train_losses = []\n",
    "    avg_valid_losses = []\n",
    "\n",
    "    for epoch in range(1, epochs + 1):\n",
    "        starttime = time.time()  # record time for each epoch\n",
    "        train_losses = []  # save loss for every batch\n",
    "        valid_losses = []\n",
    "\n",
    "        # ======================= training =======================\n",
    "        model.train()  # train mode on\n",
    "        for batch, ((X, mask), y) in enumerate(train_dataloader):\n",
    "            X, mask, y = X.to(device), mask.to(device), y.to(device)\n",
    "\n",
    "            # predict and loss\n",
    "            pred = model(X * mask)\n",
    "            loss = loss_fn(pred * (1-mask), y)\n",
    "            train_losses.append(loss.item())\n",
    "\n",
    "            # Backpropagation\n",
    "            optimizer.zero_grad()\n",
    "            loss.backward()\n",
    "            optimizer.step()\n",
    "\n",
    "        # ======================= validating =======================\n",
    "        model.eval()  # evaluation model on\n",
    "        with torch.no_grad():\n",
    "            for (X, mask), y in validate_dataloader:\n",
    "                X, mask, y = X.to(device), mask.to(device), y.to(device)\n",
    "\n",
    "                pred = model(X * mask)\n",
    "                loss = loss_fn(pred * (1-mask), y)\n",
    "                valid_losses.append(loss.item())\n",
    "\n",
    "        # average loss over an epoch\n",
    "        train_loss = np.average(train_losses)\n",
    "        valid_loss = np.average(valid_losses)\n",
    "        avg_train_losses.append(train_loss)\n",
    "        avg_valid_losses.append(valid_loss)\n",
    "\n",
    "        lr_schedule.step(valid_loss)\n",
    "\n",
    "        # ==================== history monitoring ====================\n",
    "        # print training/validation statistics\n",
    "        epoch_len = len(str(epochs))\n",
    "        print_msg = (f'[{epoch:>{epoch_len}}/{epochs:>{epoch_len}}] ' +\n",
    "                     f'train_loss: {train_loss:.5f} ' +\n",
    "                     f'valid_loss: {valid_loss:.5f} ' +\n",
    "                     f'time per epoch: {(time.time() - starttime):.3f} s')\n",
    "        print(print_msg)\n",
    "\n",
    "        if (minimum_epochs is None) or ((minimum_epochs is not None) and (epoch > minimum_epochs)):\n",
    "            # if the current valid loss is lowest, save a checkpoint of model weights\n",
    "            early_stopping(valid_loss, model)\n",
    "\n",
    "        if early_stopping.early_stop:\n",
    "            print(\"Early stopping\")\n",
    "            break\n",
    "\n",
    "    # load the last checkpoint as the best model\n",
    "    model.load_state_dict(torch.load('checkpoint.pt'))\n",
    "\n",
    "    return model, avg_train_losses, avg_valid_losses"
   ]
  },
  {
   "cell_type": "code",
   "execution_count": 74,
   "id": "59c723bc",
   "metadata": {},
   "outputs": [],
   "source": [
    "def try_gpu(i=0):\n",
    "    if torch.cuda.device_count() > i:\n",
    "        return torch.device(f'cuda:{i}')\n",
    "    return torch.device('cpu')"
   ]
  },
  {
   "cell_type": "code",
   "execution_count": 82,
   "id": "4ece9956",
   "metadata": {},
   "outputs": [],
   "source": [
    "def train(data): # data is a numpy array\n",
    "    \n",
    "    \"\"\" Prepare the data for training \"\"\"\n",
    "    # x = data.T[np.newaxis, :, :]\n",
    "    # x = np.repeat(x, 5, axis=0)\n",
    "    x = data.transpose(0, 2, 1)[:, np.newaxis, :, :]  # shape (N, 1, X, T)\n",
    "    print(x.shape, x.dtype)\n",
    "    # training_data = dataflow(x[:4])\n",
    "    # validation_data = dataflow(x[4:])\n",
    "    num_samples = x.shape[0]\n",
    "    split_idx = int(num_samples * 0.8)\n",
    "    print(x[:split_idx].shape, x[split_idx:].shape)\n",
    "    training_data = dataflow(x[:split_idx])\n",
    "    validation_data = dataflow(x[split_idx:])\n",
    "\n",
    "\n",
    "    \"\"\" Initialize the U-net model \"\"\"\n",
    "    model = unet(1, 16, 1024, factors=(5, 3, 2, 2))\n",
    "    devc = try_gpu()\n",
    "    model.to(devc)\n",
    "    # %% Hyper-parameters for training\n",
    "    batch_size = 10\n",
    "    lr = 1e-3\n",
    "    loss_fn = nn.MSELoss()\n",
    "    optimizer = torch.optim.AdamW(filter(lambda p: p.requires_grad, model.parameters()), lr=lr)\n",
    "    train_iter = DataLoader(training_data, batch_size=batch_size, shuffle=True)\n",
    "    validate_iter = DataLoader(validation_data, batch_size=batch_size, shuffle=False)\n",
    "\n",
    "    lr_scheduler = torch.optim.lr_scheduler.ReduceLROnPlateau(\n",
    "        optimizer, \n",
    "        mode='min',        # reduce LR when the monitored quantity has stopped decreasing\n",
    "        factor=0.5,        # reduce by half\n",
    "        patience=3,        # wait 3 epochs before reducing\n",
    "        verbose=True\n",
    "    )\n",
    "\n",
    "    model, avg_train_losses, avg_valid_losses = train_augmentation(train_iter,\n",
    "                                                                   validate_iter,\n",
    "                                                                   model,\n",
    "                                                                   loss_fn,\n",
    "                                                                   optimizer,\n",
    "                                                                   lr_scheduler,\n",
    "                                                                   epochs=50,\n",
    "                                                                   patience=6,\n",
    "                                                                   device=devc,\n",
    "                                                                   minimum_epochs=5)\n",
    "    \n",
    "    return model, avg_train_losses, avg_valid_losses"
   ]
  },
  {
   "cell_type": "code",
   "execution_count": 83,
   "id": "ccf246d5",
   "metadata": {},
   "outputs": [
    {
     "name": "stdout",
     "output_type": "stream",
     "text": [
      "(900, 1, 1500, 1500) float64\n",
      "(720, 1, 1500, 1500) (180, 1, 1500, 1500)\n"
     ]
    },
    {
     "ename": "ValueError",
     "evalue": "negative dimensions are not allowed",
     "output_type": "error",
     "traceback": [
      "\u001b[31m---------------------------------------------------------------------------\u001b[39m",
      "\u001b[31mValueError\u001b[39m                                Traceback (most recent call last)",
      "\u001b[36mCell\u001b[39m\u001b[36m \u001b[39m\u001b[32mIn[83]\u001b[39m\u001b[32m, line 1\u001b[39m\n\u001b[32m----> \u001b[39m\u001b[32m1\u001b[39m model, avg_train_losses, avg_valid_losses = \u001b[43mtrain\u001b[49m\u001b[43m(\u001b[49m\u001b[43mdata_array\u001b[49m\u001b[43m)\u001b[49m\n",
      "\u001b[36mCell\u001b[39m\u001b[36m \u001b[39m\u001b[32mIn[82]\u001b[39m\u001b[32m, line 13\u001b[39m, in \u001b[36mtrain\u001b[39m\u001b[34m(data)\u001b[39m\n\u001b[32m     11\u001b[39m split_idx = \u001b[38;5;28mint\u001b[39m(num_samples * \u001b[32m0.8\u001b[39m)\n\u001b[32m     12\u001b[39m \u001b[38;5;28mprint\u001b[39m(x[:split_idx].shape, x[split_idx:].shape)\n\u001b[32m---> \u001b[39m\u001b[32m13\u001b[39m training_data = \u001b[43mdataflow\u001b[49m\u001b[43m(\u001b[49m\u001b[43mx\u001b[49m\u001b[43m[\u001b[49m\u001b[43m:\u001b[49m\u001b[43msplit_idx\u001b[49m\u001b[43m]\u001b[49m\u001b[43m)\u001b[49m\n\u001b[32m     14\u001b[39m validation_data = dataflow(x[split_idx:])\n\u001b[32m     17\u001b[39m \u001b[38;5;250m\u001b[39m\u001b[33;03m\"\"\" Initialize the U-net model \"\"\"\u001b[39;00m\n",
      "\u001b[36mFile \u001b[39m\u001b[32m~/FM_Denoising_DAS/model/model.py:213\u001b[39m, in \u001b[36mdataflow.__init__\u001b[39m\u001b[34m(self, X, Nx_sub, stride, mask_ratio, n_masks)\u001b[39m\n\u001b[32m    211\u001b[39m \u001b[38;5;28mself\u001b[39m.n_masks = n_masks  \u001b[38;5;66;03m# number of times repeating the mask\u001b[39;00m\n\u001b[32m    212\u001b[39m \u001b[38;5;28mself\u001b[39m.mask_traces = \u001b[38;5;28mint\u001b[39m(mask_ratio * Nx_sub)  \u001b[38;5;66;03m# the number traces to mask\u001b[39;00m\n\u001b[32m--> \u001b[39m\u001b[32m213\u001b[39m \u001b[38;5;28;43mself\u001b[39;49m\u001b[43m.\u001b[49m\u001b[43m__data_generation\u001b[49m\u001b[43m(\u001b[49m\u001b[43m)\u001b[49m\n",
      "\u001b[36mFile \u001b[39m\u001b[32m~/FM_Denoising_DAS/model/model.py:233\u001b[39m, in \u001b[36mdataflow.__data_generation\u001b[39m\u001b[34m(self)\u001b[39m\n\u001b[32m    230\u001b[39m mask_traces = \u001b[38;5;28mself\u001b[39m.mask_traces\n\u001b[32m    232\u001b[39m n_total = \u001b[38;5;28mself\u001b[39m.\u001b[34m__len__\u001b[39m()  \u001b[38;5;66;03m# total number of samples\u001b[39;00m\n\u001b[32m--> \u001b[39m\u001b[32m233\u001b[39m samples = np.zeros((n_total, Nx_sub, Nt), dtype=np.float32)\n\u001b[32m    234\u001b[39m masks = np.ones_like(samples, dtype=np.float32)\n\u001b[32m    236\u001b[39m \u001b[38;5;66;03m# Loop over samples\u001b[39;00m\n",
      "\u001b[31mValueError\u001b[39m: negative dimensions are not allowed"
     ]
    }
   ],
   "source": [
    "model, avg_train_losses, avg_valid_losses = train(data_array)"
   ]
  },
  {
   "cell_type": "code",
   "execution_count": 85,
   "id": "0498c302",
   "metadata": {},
   "outputs": [
    {
     "data": {
      "image/png": "[encoded data removed]",
      "text/plain": [
       "<Figure size 1000x500 with 1 Axes>"
      ]
     },
     "metadata": {},
     "output_type": "display_data"
    }
   ],
   "source": [
    "# Plot the training and validation losses\n",
    "plt.figure(figsize=(10, 5))\n",
    "plt.plot(avg_train_losses, label='Training Loss')\n",
    "plt.plot(avg_valid_losses, label='Validation Loss')\n",
    "plt.xlabel('Epochs')\n",
    "plt.ylabel('Loss')\n",
    "plt.title('Training and Validation Losses')\n",
    "plt.legend()\n",
    "plt.grid()\n",
    "plt.show()"
   ]
  },
  {
   "cell_type": "code",
   "execution_count": null,
   "id": "102cf033",
   "metadata": {},
   "outputs": [],
   "source": []
  }
 ],
 "metadata": {
  "kernelspec": {
   "display_name": "FM_DAS",
   "language": "python",
   "name": "python3"
  },
  "language_info": {
   "codemirror_mode": {
    "name": "ipython",
    "version": 3
   },
   "file_extension": ".py",
   "mimetype": "text/x-python",
   "name": "python",
   "nbconvert_exporter": "python",
   "pygments_lexer": "ipython3",
   "version": "3.11.11"
  }
 },
 "nbformat": 4,
 "nbformat_minor": 5
}
